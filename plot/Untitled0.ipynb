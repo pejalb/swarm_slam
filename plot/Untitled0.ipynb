{
 "metadata": {
  "name": "",
  "signature": "sha256:1f6f4f31c2d76fd43652e961b65b0a5b60e00049f213cfb89293a488391cb9ce"
 },
 "nbformat": 3,
 "nbformat_minor": 0,
 "worksheets": [
  {
   "cells": [
    {
     "cell_type": "code",
     "collapsed": false,
     "input": [
      "import csv\n"
     ],
     "language": "python",
     "metadata": {},
     "outputs": [],
     "prompt_number": 9
    },
    {
     "cell_type": "code",
     "collapsed": false,
     "input": [
      "linhas=[]\n",
      "with open('linhas','r') as csvfile:\n",
      "    leitorLinhas = csv.reader(csvfile,delimiter=',')\n",
      "    for row in leitorLinhas:\n",
      "        linhas.append(row)\n",
      "linhas=[[float (x) for x in l] for l in linhas]\n"
     ],
     "language": "python",
     "metadata": {},
     "outputs": [],
     "prompt_number": 10
    },
    {
     "cell_type": "code",
     "collapsed": false,
     "input": [
      "from bresenham import bresenham\n",
      "\n",
      "ptos = [list(bresenham(int(round(linha[0])),int(round(linha[1])), int(round(linha[2])),int(round(linha[3])))) for linha in linhas]"
     ],
     "language": "python",
     "metadata": {},
     "outputs": [],
     "prompt_number": 11
    },
    {
     "cell_type": "code",
     "collapsed": false,
     "input": [
      "minimo=reduce(min,reduce(min,[reduce(min,l) for l in ptos]))\n",
      "maximo=reduce(max,reduce(max,[reduce(max,l) for l in ptos]))\n",
      "print minimo,maximo"
     ],
     "language": "python",
     "metadata": {},
     "outputs": [
      {
       "output_type": "stream",
       "stream": "stdout",
       "text": [
        "-59 84\n"
       ]
      }
     ],
     "prompt_number": 12
    },
    {
     "cell_type": "code",
     "collapsed": false,
     "input": [
      "import numpy as np\n",
      "ncells=1000\n",
      "offset=ncells/2\n",
      "mapa=np.zeros((ncells,ncells))"
     ],
     "language": "python",
     "metadata": {},
     "outputs": [],
     "prompt_number": 28
    },
    {
     "cell_type": "code",
     "collapsed": false,
     "input": [
      "for l in ptos:\n",
      "    for idx in xrange(len(l)):\n",
      "        if idx != len(l)-1:\n",
      "            mapa[offset+l[idx][0]][offset+l[idx][1]]= mapa[offset+l[idx][0]][offset+l[idx][1]]+2\n",
      "        else:\n",
      "            mapa[offset+l[idx][0]][offset+l[idx][1]]= mapa[offset+l[idx][0]][offset+l[idx][1]]-16"
     ],
     "language": "python",
     "metadata": {},
     "outputs": [],
     "prompt_number": 29
    },
    {
     "cell_type": "code",
     "collapsed": false,
     "input": [
      "mapa=(1+np.exp(mapa))\n",
      "mapa=1/mapa\n",
      "mapa=1-mapa"
     ],
     "language": "python",
     "metadata": {},
     "outputs": [],
     "prompt_number": 33
    },
    {
     "cell_type": "code",
     "collapsed": false,
     "input": [
      "csvfile.close()\n",
      "with open('mapa.csv', 'wb') as csvfile:\n",
      "    mapawriter = csv.writer(csvfile, delimiter=' ',\n",
      "                            quotechar='|', quoting=csv.QUOTE_MINIMAL)\n",
      "    for row in mapa:\n",
      "        mapawriter.writerow(row)\n",
      "csvfile.close()"
     ],
     "language": "python",
     "metadata": {},
     "outputs": [
      {
       "ename": "KeyboardInterrupt",
       "evalue": "",
       "output_type": "pyerr",
       "traceback": [
        "\u001b[0;31m---------------------------------------------------------------------------\u001b[0m\n\u001b[0;31mKeyboardInterrupt\u001b[0m                         Traceback (most recent call last)",
        "\u001b[0;32m<ipython-input-7-269aa876c637>\u001b[0m in \u001b[0;36m<module>\u001b[0;34m()\u001b[0m\n\u001b[1;32m      4\u001b[0m                             quotechar='|', quoting=csv.QUOTE_MINIMAL)\n\u001b[1;32m      5\u001b[0m     \u001b[0;32mfor\u001b[0m \u001b[0mrow\u001b[0m \u001b[0;32min\u001b[0m \u001b[0mmapa\u001b[0m\u001b[0;34m:\u001b[0m\u001b[0;34m\u001b[0m\u001b[0m\n\u001b[0;32m----> 6\u001b[0;31m         \u001b[0mmapawriter\u001b[0m\u001b[0;34m.\u001b[0m\u001b[0mwriterow\u001b[0m\u001b[0;34m(\u001b[0m\u001b[0mrow\u001b[0m\u001b[0;34m)\u001b[0m\u001b[0;34m\u001b[0m\u001b[0m\n\u001b[0m\u001b[1;32m      7\u001b[0m \u001b[0mcsvfile\u001b[0m\u001b[0;34m.\u001b[0m\u001b[0mclose\u001b[0m\u001b[0;34m(\u001b[0m\u001b[0;34m)\u001b[0m\u001b[0;34m\u001b[0m\u001b[0m\n",
        "\u001b[0;31mKeyboardInterrupt\u001b[0m: "
       ]
      }
     ],
     "prompt_number": 7
    },
    {
     "cell_type": "code",
     "collapsed": false,
     "input": [
      "import matplotlib.pyplot as plt\n",
      "import matplotlib.image as mpimg"
     ],
     "language": "python",
     "metadata": {},
     "outputs": [],
     "prompt_number": 34
    },
    {
     "cell_type": "raw",
     "metadata": {},
     "source": []
    },
    {
     "cell_type": "code",
     "collapsed": false,
     "input": [
      "imgplot= plt.imshow(mapa,cmap='gray')\n",
      "plt.imsave('mapa.png',mapa,cmap='gray')"
     ],
     "language": "python",
     "metadata": {},
     "outputs": [],
     "prompt_number": 41
    }
   ],
   "metadata": {}
  }
 ]
}